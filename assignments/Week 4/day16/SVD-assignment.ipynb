{
 "cells": [
  {
   "cell_type": "markdown",
   "metadata": {},
   "source": [
    "# SVD Exercises\n",
    "\n",
    "Congrats, you just got hired as the lead data scientist for Minipreço! Your boss has some data of invoices for purchases and she thinks that a recommender system would lead to higher sales. Using the `retail.csv` and the **SVD** from class lets make this happen!\n",
    "\n",
    "*Hint: The SVD notebook from class will help a lot!*"
   ]
  },
  {
   "cell_type": "markdown",
   "metadata": {},
   "source": [
    "### Load in the data"
   ]
  },
  {
   "cell_type": "code",
   "execution_count": 1,
   "metadata": {},
   "outputs": [],
   "source": [
    "from IPython.display import Image\n",
    "import pandas as pd\n",
    "import numpy as np\n",
    "import matplotlib\n",
    "import matplotlib.pyplot as plt\n",
    "from matplotlib import cm\n",
    "import warnings\n",
    "warnings.simplefilter(\"ignore\")\n",
    "%matplotlib inline"
   ]
  },
  {
   "cell_type": "code",
   "execution_count": 2,
   "metadata": {},
   "outputs": [],
   "source": [
    "matplotlib.rcParams['figure.figsize'] = [10, 10]"
   ]
  },
  {
   "cell_type": "code",
   "execution_count": 4,
   "metadata": {},
   "outputs": [],
   "source": [
    "data = pd.read_csv(\"data/retail.csv\")"
   ]
  },
  {
   "cell_type": "code",
   "execution_count": 5,
   "metadata": {},
   "outputs": [
    {
     "data": {
      "text/html": [
       "<div>\n",
       "<style scoped>\n",
       "    .dataframe tbody tr th:only-of-type {\n",
       "        vertical-align: middle;\n",
       "    }\n",
       "\n",
       "    .dataframe tbody tr th {\n",
       "        vertical-align: top;\n",
       "    }\n",
       "\n",
       "    .dataframe thead th {\n",
       "        text-align: right;\n",
       "    }\n",
       "</style>\n",
       "<table border=\"1\" class=\"dataframe\">\n",
       "  <thead>\n",
       "    <tr style=\"text-align: right;\">\n",
       "      <th></th>\n",
       "      <th>InvoiceNo</th>\n",
       "      <th>StockCode</th>\n",
       "      <th>Description</th>\n",
       "      <th>Quantity</th>\n",
       "      <th>InvoiceDate</th>\n",
       "      <th>UnitPrice</th>\n",
       "      <th>CustomerID</th>\n",
       "      <th>Country</th>\n",
       "    </tr>\n",
       "  </thead>\n",
       "  <tbody>\n",
       "    <tr>\n",
       "      <th>0</th>\n",
       "      <td>573744</td>\n",
       "      <td>21314</td>\n",
       "      <td>SMALL GLASS HEART TRINKET POT</td>\n",
       "      <td>8</td>\n",
       "      <td>2011-11-01 08:16:00</td>\n",
       "      <td>2.10</td>\n",
       "      <td>17733.0</td>\n",
       "      <td>United Kingdom</td>\n",
       "    </tr>\n",
       "    <tr>\n",
       "      <th>1</th>\n",
       "      <td>573744</td>\n",
       "      <td>21704</td>\n",
       "      <td>BAG 250g SWIRLY MARBLES</td>\n",
       "      <td>12</td>\n",
       "      <td>2011-11-01 08:16:00</td>\n",
       "      <td>0.85</td>\n",
       "      <td>17733.0</td>\n",
       "      <td>United Kingdom</td>\n",
       "    </tr>\n",
       "    <tr>\n",
       "      <th>2</th>\n",
       "      <td>573744</td>\n",
       "      <td>21791</td>\n",
       "      <td>VINTAGE HEADS AND TAILS CARD GAME</td>\n",
       "      <td>12</td>\n",
       "      <td>2011-11-01 08:16:00</td>\n",
       "      <td>1.25</td>\n",
       "      <td>17733.0</td>\n",
       "      <td>United Kingdom</td>\n",
       "    </tr>\n",
       "    <tr>\n",
       "      <th>3</th>\n",
       "      <td>573744</td>\n",
       "      <td>21892</td>\n",
       "      <td>TRADITIONAL WOODEN CATCH CUP GAME</td>\n",
       "      <td>12</td>\n",
       "      <td>2011-11-01 08:16:00</td>\n",
       "      <td>1.25</td>\n",
       "      <td>17733.0</td>\n",
       "      <td>United Kingdom</td>\n",
       "    </tr>\n",
       "    <tr>\n",
       "      <th>4</th>\n",
       "      <td>573744</td>\n",
       "      <td>21915</td>\n",
       "      <td>RED  HARMONICA IN BOX</td>\n",
       "      <td>12</td>\n",
       "      <td>2011-11-01 08:16:00</td>\n",
       "      <td>1.25</td>\n",
       "      <td>17733.0</td>\n",
       "      <td>United Kingdom</td>\n",
       "    </tr>\n",
       "  </tbody>\n",
       "</table>\n",
       "</div>"
      ],
      "text/plain": [
       "  InvoiceNo StockCode                         Description  Quantity  \\\n",
       "0    573744     21314       SMALL GLASS HEART TRINKET POT         8   \n",
       "1    573744     21704             BAG 250g SWIRLY MARBLES        12   \n",
       "2    573744     21791  VINTAGE HEADS AND TAILS CARD GAME         12   \n",
       "3    573744     21892  TRADITIONAL WOODEN CATCH CUP GAME         12   \n",
       "4    573744     21915              RED  HARMONICA IN BOX         12   \n",
       "\n",
       "           InvoiceDate  UnitPrice  CustomerID         Country  \n",
       "0  2011-11-01 08:16:00       2.10     17733.0  United Kingdom  \n",
       "1  2011-11-01 08:16:00       0.85     17733.0  United Kingdom  \n",
       "2  2011-11-01 08:16:00       1.25     17733.0  United Kingdom  \n",
       "3  2011-11-01 08:16:00       1.25     17733.0  United Kingdom  \n",
       "4  2011-11-01 08:16:00       1.25     17733.0  United Kingdom  "
      ]
     },
     "execution_count": 5,
     "metadata": {},
     "output_type": "execute_result"
    }
   ],
   "source": [
    "data.head()"
   ]
  },
  {
   "cell_type": "markdown",
   "metadata": {},
   "source": [
    "### Create sparse CustomerID and Quantity matrix"
   ]
  },
  {
   "cell_type": "code",
   "execution_count": 9,
   "metadata": {},
   "outputs": [],
   "source": [
    "invoice_mtx_df = data.pivot_table(values='Quantity', index='CustomerID',\n",
    "                                     columns='StockCode')\n",
    "StockCode_index = ratings_mtx_df.columns"
   ]
  },
  {
   "cell_type": "code",
   "execution_count": 10,
   "metadata": {},
   "outputs": [
    {
     "data": {
      "text/html": [
       "<div>\n",
       "<style scoped>\n",
       "    .dataframe tbody tr th:only-of-type {\n",
       "        vertical-align: middle;\n",
       "    }\n",
       "\n",
       "    .dataframe tbody tr th {\n",
       "        vertical-align: top;\n",
       "    }\n",
       "\n",
       "    .dataframe thead th {\n",
       "        text-align: right;\n",
       "    }\n",
       "</style>\n",
       "<table border=\"1\" class=\"dataframe\">\n",
       "  <thead>\n",
       "    <tr style=\"text-align: right;\">\n",
       "      <th>StockCode</th>\n",
       "      <th>10080</th>\n",
       "      <th>10120</th>\n",
       "      <th>10124A</th>\n",
       "      <th>10124G</th>\n",
       "      <th>10125</th>\n",
       "      <th>10135</th>\n",
       "      <th>11001</th>\n",
       "      <th>15030</th>\n",
       "      <th>15034</th>\n",
       "      <th>15036</th>\n",
       "      <th>...</th>\n",
       "      <th>90214M</th>\n",
       "      <th>90214N</th>\n",
       "      <th>90214S</th>\n",
       "      <th>BANK CHARGES</th>\n",
       "      <th>C2</th>\n",
       "      <th>CRUK</th>\n",
       "      <th>D</th>\n",
       "      <th>DOT</th>\n",
       "      <th>M</th>\n",
       "      <th>POST</th>\n",
       "    </tr>\n",
       "    <tr>\n",
       "      <th>CustomerID</th>\n",
       "      <th></th>\n",
       "      <th></th>\n",
       "      <th></th>\n",
       "      <th></th>\n",
       "      <th></th>\n",
       "      <th></th>\n",
       "      <th></th>\n",
       "      <th></th>\n",
       "      <th></th>\n",
       "      <th></th>\n",
       "      <th></th>\n",
       "      <th></th>\n",
       "      <th></th>\n",
       "      <th></th>\n",
       "      <th></th>\n",
       "      <th></th>\n",
       "      <th></th>\n",
       "      <th></th>\n",
       "      <th></th>\n",
       "      <th></th>\n",
       "      <th></th>\n",
       "    </tr>\n",
       "  </thead>\n",
       "  <tbody>\n",
       "    <tr>\n",
       "      <th>12349.0</th>\n",
       "      <td>NaN</td>\n",
       "      <td>NaN</td>\n",
       "      <td>NaN</td>\n",
       "      <td>NaN</td>\n",
       "      <td>NaN</td>\n",
       "      <td>NaN</td>\n",
       "      <td>NaN</td>\n",
       "      <td>NaN</td>\n",
       "      <td>NaN</td>\n",
       "      <td>NaN</td>\n",
       "      <td>...</td>\n",
       "      <td>NaN</td>\n",
       "      <td>NaN</td>\n",
       "      <td>NaN</td>\n",
       "      <td>NaN</td>\n",
       "      <td>NaN</td>\n",
       "      <td>NaN</td>\n",
       "      <td>NaN</td>\n",
       "      <td>NaN</td>\n",
       "      <td>NaN</td>\n",
       "      <td>1.0</td>\n",
       "    </tr>\n",
       "    <tr>\n",
       "      <th>12352.0</th>\n",
       "      <td>NaN</td>\n",
       "      <td>NaN</td>\n",
       "      <td>NaN</td>\n",
       "      <td>NaN</td>\n",
       "      <td>NaN</td>\n",
       "      <td>NaN</td>\n",
       "      <td>NaN</td>\n",
       "      <td>NaN</td>\n",
       "      <td>NaN</td>\n",
       "      <td>NaN</td>\n",
       "      <td>...</td>\n",
       "      <td>NaN</td>\n",
       "      <td>NaN</td>\n",
       "      <td>NaN</td>\n",
       "      <td>NaN</td>\n",
       "      <td>NaN</td>\n",
       "      <td>NaN</td>\n",
       "      <td>NaN</td>\n",
       "      <td>NaN</td>\n",
       "      <td>NaN</td>\n",
       "      <td>2.0</td>\n",
       "    </tr>\n",
       "    <tr>\n",
       "      <th>12356.0</th>\n",
       "      <td>NaN</td>\n",
       "      <td>NaN</td>\n",
       "      <td>NaN</td>\n",
       "      <td>NaN</td>\n",
       "      <td>NaN</td>\n",
       "      <td>NaN</td>\n",
       "      <td>NaN</td>\n",
       "      <td>NaN</td>\n",
       "      <td>NaN</td>\n",
       "      <td>NaN</td>\n",
       "      <td>...</td>\n",
       "      <td>NaN</td>\n",
       "      <td>NaN</td>\n",
       "      <td>NaN</td>\n",
       "      <td>NaN</td>\n",
       "      <td>NaN</td>\n",
       "      <td>NaN</td>\n",
       "      <td>NaN</td>\n",
       "      <td>NaN</td>\n",
       "      <td>NaN</td>\n",
       "      <td>NaN</td>\n",
       "    </tr>\n",
       "    <tr>\n",
       "      <th>12357.0</th>\n",
       "      <td>NaN</td>\n",
       "      <td>NaN</td>\n",
       "      <td>NaN</td>\n",
       "      <td>NaN</td>\n",
       "      <td>NaN</td>\n",
       "      <td>NaN</td>\n",
       "      <td>NaN</td>\n",
       "      <td>NaN</td>\n",
       "      <td>NaN</td>\n",
       "      <td>NaN</td>\n",
       "      <td>...</td>\n",
       "      <td>NaN</td>\n",
       "      <td>NaN</td>\n",
       "      <td>NaN</td>\n",
       "      <td>NaN</td>\n",
       "      <td>NaN</td>\n",
       "      <td>NaN</td>\n",
       "      <td>NaN</td>\n",
       "      <td>NaN</td>\n",
       "      <td>NaN</td>\n",
       "      <td>NaN</td>\n",
       "    </tr>\n",
       "    <tr>\n",
       "      <th>12362.0</th>\n",
       "      <td>NaN</td>\n",
       "      <td>NaN</td>\n",
       "      <td>NaN</td>\n",
       "      <td>NaN</td>\n",
       "      <td>NaN</td>\n",
       "      <td>NaN</td>\n",
       "      <td>NaN</td>\n",
       "      <td>NaN</td>\n",
       "      <td>NaN</td>\n",
       "      <td>NaN</td>\n",
       "      <td>...</td>\n",
       "      <td>NaN</td>\n",
       "      <td>NaN</td>\n",
       "      <td>NaN</td>\n",
       "      <td>NaN</td>\n",
       "      <td>NaN</td>\n",
       "      <td>NaN</td>\n",
       "      <td>NaN</td>\n",
       "      <td>NaN</td>\n",
       "      <td>NaN</td>\n",
       "      <td>4.0</td>\n",
       "    </tr>\n",
       "  </tbody>\n",
       "</table>\n",
       "<p>5 rows × 2704 columns</p>\n",
       "</div>"
      ],
      "text/plain": [
       "StockCode   10080  10120  10124A  10124G  10125  10135  11001  15030  15034  \\\n",
       "CustomerID                                                                    \n",
       "12349.0       NaN    NaN     NaN     NaN    NaN    NaN    NaN    NaN    NaN   \n",
       "12352.0       NaN    NaN     NaN     NaN    NaN    NaN    NaN    NaN    NaN   \n",
       "12356.0       NaN    NaN     NaN     NaN    NaN    NaN    NaN    NaN    NaN   \n",
       "12357.0       NaN    NaN     NaN     NaN    NaN    NaN    NaN    NaN    NaN   \n",
       "12362.0       NaN    NaN     NaN     NaN    NaN    NaN    NaN    NaN    NaN   \n",
       "\n",
       "StockCode   15036  ...   90214M  90214N  90214S  BANK CHARGES  C2  CRUK   D  \\\n",
       "CustomerID         ...                                                        \n",
       "12349.0       NaN  ...      NaN     NaN     NaN           NaN NaN   NaN NaN   \n",
       "12352.0       NaN  ...      NaN     NaN     NaN           NaN NaN   NaN NaN   \n",
       "12356.0       NaN  ...      NaN     NaN     NaN           NaN NaN   NaN NaN   \n",
       "12357.0       NaN  ...      NaN     NaN     NaN           NaN NaN   NaN NaN   \n",
       "12362.0       NaN  ...      NaN     NaN     NaN           NaN NaN   NaN NaN   \n",
       "\n",
       "StockCode   DOT   M  POST  \n",
       "CustomerID                 \n",
       "12349.0     NaN NaN   1.0  \n",
       "12352.0     NaN NaN   2.0  \n",
       "12356.0     NaN NaN   NaN  \n",
       "12357.0     NaN NaN   NaN  \n",
       "12362.0     NaN NaN   4.0  \n",
       "\n",
       "[5 rows x 2704 columns]"
      ]
     },
     "execution_count": 10,
     "metadata": {},
     "output_type": "execute_result"
    }
   ],
   "source": [
    "invoice_mtx_df.head()"
   ]
  },
  {
   "cell_type": "code",
   "execution_count": 11,
   "metadata": {},
   "outputs": [],
   "source": [
    "from scipy.sparse import coo_matrix\n",
    "invoice_mtx = invoice_mtx_df.fillna(0).as_matrix().copy()\n",
    "\n",
    "invoice_sparse_mtx = coo_matrix(invoice_mtx)"
   ]
  },
  {
   "cell_type": "code",
   "execution_count": 13,
   "metadata": {},
   "outputs": [
    {
     "data": {
      "text/plain": [
       "<1711x2704 sparse matrix of type '<class 'numpy.float64'>'\n",
       "\twith 55529 stored elements in COOrdinate format>"
      ]
     },
     "execution_count": 13,
     "metadata": {},
     "output_type": "execute_result"
    }
   ],
   "source": [
    "invoice_sparse_mtx"
   ]
  },
  {
   "cell_type": "markdown",
   "metadata": {},
   "source": [
    "### Take the SVD of the matrix\n",
    "*Make degree 10*"
   ]
  },
  {
   "cell_type": "code",
   "execution_count": 14,
   "metadata": {},
   "outputs": [],
   "source": [
    "from scipy.sparse.linalg import svds"
   ]
  },
  {
   "cell_type": "code",
   "execution_count": 16,
   "metadata": {},
   "outputs": [],
   "source": [
    "U,s, V = svds(invoice_mtx,  k=10)"
   ]
  },
  {
   "cell_type": "code",
   "execution_count": 17,
   "metadata": {},
   "outputs": [
    {
     "data": {
      "text/plain": [
       "((1711, 10), (10,), (10, 2704))"
      ]
     },
     "execution_count": 17,
     "metadata": {},
     "output_type": "execute_result"
    }
   ],
   "source": [
    "U.shape, s.shape, V.shape"
   ]
  },
  {
   "cell_type": "markdown",
   "metadata": {},
   "source": [
    "### Multiply the decompostion back to get approx matrix"
   ]
  },
  {
   "cell_type": "code",
   "execution_count": 18,
   "metadata": {},
   "outputs": [],
   "source": [
    "s_diag_matrix = np.zeros((s.shape[0], s.shape[0]))\n",
    "\n",
    "for i in range(s.shape[0]):\n",
    "    s_diag_matrix[i,i] = s[i]"
   ]
  },
  {
   "cell_type": "code",
   "execution_count": 19,
   "metadata": {},
   "outputs": [],
   "source": [
    "invoice_svd = U @ s_diag_matrix @ V"
   ]
  },
  {
   "cell_type": "code",
   "execution_count": 20,
   "metadata": {
    "scrolled": true
   },
   "outputs": [
    {
     "data": {
      "text/plain": [
       "(1711, 2704)"
      ]
     },
     "execution_count": 20,
     "metadata": {},
     "output_type": "execute_result"
    }
   ],
   "source": [
    "invoice_svd.shape"
   ]
  },
  {
   "cell_type": "code",
   "execution_count": 21,
   "metadata": {},
   "outputs": [
    {
     "data": {
      "text/plain": [
       "array([[  1.23342323e-03,   1.93415018e-03,   4.88805691e-05, ...,\n",
       "          9.51224696e-05,   2.51846079e-02,   2.11898642e-02],\n",
       "       [  8.65528216e-05,   1.25679213e-04,   3.90324680e-06, ...,\n",
       "          7.20674251e-06,   7.46346462e-03,   2.29425951e-03],\n",
       "       [  1.37734275e-06,   3.54078145e-06,   7.02370917e-08, ...,\n",
       "          2.64978898e-07,   6.81608765e-05,   9.20442285e-05],\n",
       "       ..., \n",
       "       [  3.68341866e-19,   3.61556380e-18,   4.39974623e-20, ...,\n",
       "          2.37093215e-20,   1.48248327e-14,  -1.26704425e-17],\n",
       "       [ -3.12860530e-08,  -6.00005496e-08,  -1.02239974e-09, ...,\n",
       "         -2.30419421e-09,  -2.39068553e-07,  -1.04964032e-07],\n",
       "       [  7.86902322e-04,   1.42018072e-03,   2.82985098e-05, ...,\n",
       "          6.51039841e-05,   6.05737933e-01,   1.03481134e-02]])"
      ]
     },
     "execution_count": 21,
     "metadata": {},
     "output_type": "execute_result"
    }
   ],
   "source": [
    "invoice_svd"
   ]
  },
  {
   "cell_type": "code",
   "execution_count": null,
   "metadata": {},
   "outputs": [],
   "source": []
  },
  {
   "cell_type": "markdown",
   "metadata": {},
   "source": [
    "### Create recommendation function\n",
    "\n",
    "Using the approx matrix from above we can give recommendations. You got this!"
   ]
  },
  {
   "cell_type": "code",
   "execution_count": 23,
   "metadata": {},
   "outputs": [],
   "source": [
    "def recommend(customer_id, num_results=5):\n",
    "    \"\"\" Reccomends items to users\n",
    "    Args:\n",
    "      customer_id : the customer id\n",
    "      num_results: the number of recs to give\n",
    "    Returns:\n",
    "      rec_ids: list of recommended item ids\n",
    "      rec_names: list of recommended item description/names\n",
    "    \"\"\"\n",
    "    user_recommendations = list(\n",
    "                        map(\n",
    "                         lambda x: x[0],\n",
    "                         sorted(user_recommendations, key=lambda x: x[1])\n",
    "                        )\n",
    ")\n",
    "    user_recommendations = [movie for movie in user_recommendations if movie not in user_rated_movies]\n",
    "    user_recommendations[:10]\n",
    "    raise NotImplementedError(\"Finish the function...\")"
   ]
  },
  {
   "cell_type": "markdown",
   "metadata": {},
   "source": [
    "### BONUS!\n",
    "This only works for customers already in the data. How would you change this to make it recommend for a new customer that has purchased a list of items?"
   ]
  },
  {
   "cell_type": "code",
   "execution_count": null,
   "metadata": {},
   "outputs": [],
   "source": []
  }
 ],
 "metadata": {
  "kernelspec": {
   "display_name": "Python 3",
   "language": "python",
   "name": "python3"
  },
  "language_info": {
   "codemirror_mode": {
    "name": "ipython",
    "version": 3
   },
   "file_extension": ".py",
   "mimetype": "text/x-python",
   "name": "python",
   "nbconvert_exporter": "python",
   "pygments_lexer": "ipython3",
   "version": "3.6.5"
  }
 },
 "nbformat": 4,
 "nbformat_minor": 2
}
