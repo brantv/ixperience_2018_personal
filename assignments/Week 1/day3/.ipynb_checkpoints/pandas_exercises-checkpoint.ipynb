{
 "cells": [
  {
   "cell_type": "markdown",
   "metadata": {},
   "source": [
    "# Pandas Exercises"
   ]
  },
  {
   "cell_type": "code",
   "execution_count": 64,
   "metadata": {},
   "outputs": [],
   "source": [
    "import pandas as pd"
   ]
  },
  {
   "cell_type": "markdown",
   "metadata": {},
   "source": [
    "## Problem 1\n",
    "\n",
    "*The file `crime_data.txt` contrains data on types of crimes commited in the US from 1960 - 2016. Complete the following problems using this data.*"
   ]
  },
  {
   "cell_type": "markdown",
   "metadata": {},
   "source": [
    "Load the data into a pandas DataFrame, using the column names in the file and the column titled “Year” as the index. Make sure to skip lines that don’t contain data."
   ]
  },
  {
   "cell_type": "code",
   "execution_count": 65,
   "metadata": {
    "scrolled": true
   },
   "outputs": [],
   "source": [
    "crime_data = pd.read_csv(\"crime_data.txt\", index_col=0)\n"
   ]
  },
  {
   "cell_type": "markdown",
   "metadata": {},
   "source": [
    "Insert a new column into the data frame that contains the crime rate by year (the ratio of “Total” column to the “Population” column)."
   ]
  },
  {
   "cell_type": "code",
   "execution_count": 66,
   "metadata": {},
   "outputs": [],
   "source": [
    "crime_data['ratio'] = crime_data.Total.divide(crime_data.Population)\n"
   ]
  },
  {
   "cell_type": "markdown",
   "metadata": {},
   "source": [
    "Insert a new column into the data frame that contains the crime rate by year (the ratio of “Total” column to the “Population” column)."
   ]
  },
  {
   "cell_type": "code",
   "execution_count": null,
   "metadata": {},
   "outputs": [],
   "source": []
  },
  {
   "cell_type": "markdown",
   "metadata": {},
   "source": [
    "List the 5 years with the highest crime rate in descending order."
   ]
  },
  {
   "cell_type": "code",
   "execution_count": 67,
   "metadata": {},
   "outputs": [
    {
     "data": {
      "text/html": [
       "<div>\n",
       "<style scoped>\n",
       "    .dataframe tbody tr th:only-of-type {\n",
       "        vertical-align: middle;\n",
       "    }\n",
       "\n",
       "    .dataframe tbody tr th {\n",
       "        vertical-align: top;\n",
       "    }\n",
       "\n",
       "    .dataframe thead th {\n",
       "        text-align: right;\n",
       "    }\n",
       "</style>\n",
       "<table border=\"1\" class=\"dataframe\">\n",
       "  <thead>\n",
       "    <tr style=\"text-align: right;\">\n",
       "      <th></th>\n",
       "      <th>Population</th>\n",
       "      <th>Total</th>\n",
       "      <th>Violent</th>\n",
       "      <th>Property</th>\n",
       "      <th>Murder</th>\n",
       "      <th>Forcible-Rape</th>\n",
       "      <th>Robbery</th>\n",
       "      <th>Aggravated-assault</th>\n",
       "      <th>Burglary</th>\n",
       "      <th>Larcency-Theft</th>\n",
       "      <th>Vehicle-Theft</th>\n",
       "      <th>ratio</th>\n",
       "    </tr>\n",
       "    <tr>\n",
       "      <th>ratio</th>\n",
       "      <th></th>\n",
       "      <th></th>\n",
       "      <th></th>\n",
       "      <th></th>\n",
       "      <th></th>\n",
       "      <th></th>\n",
       "      <th></th>\n",
       "      <th></th>\n",
       "      <th></th>\n",
       "      <th></th>\n",
       "      <th></th>\n",
       "      <th></th>\n",
       "    </tr>\n",
       "  </thead>\n",
       "  <tbody>\n",
       "    <tr>\n",
       "      <th>0.059500</th>\n",
       "      <td>225349264</td>\n",
       "      <td>13408300</td>\n",
       "      <td>1344520</td>\n",
       "      <td>12063700</td>\n",
       "      <td>23040</td>\n",
       "      <td>82990</td>\n",
       "      <td>565840</td>\n",
       "      <td>672650</td>\n",
       "      <td>3795200</td>\n",
       "      <td>7136900</td>\n",
       "      <td>1131700</td>\n",
       "      <td>0.059500</td>\n",
       "    </tr>\n",
       "    <tr>\n",
       "      <th>0.058978</th>\n",
       "      <td>252177000</td>\n",
       "      <td>14872900</td>\n",
       "      <td>1911770</td>\n",
       "      <td>12961100</td>\n",
       "      <td>24700</td>\n",
       "      <td>106590</td>\n",
       "      <td>687730</td>\n",
       "      <td>1092740</td>\n",
       "      <td>3157200</td>\n",
       "      <td>8142200</td>\n",
       "      <td>1661700</td>\n",
       "      <td>0.058978</td>\n",
       "    </tr>\n",
       "    <tr>\n",
       "      <th>0.058582</th>\n",
       "      <td>229146000</td>\n",
       "      <td>13423800</td>\n",
       "      <td>1361820</td>\n",
       "      <td>12061900</td>\n",
       "      <td>22520</td>\n",
       "      <td>82500</td>\n",
       "      <td>592910</td>\n",
       "      <td>663900</td>\n",
       "      <td>3779700</td>\n",
       "      <td>7194400</td>\n",
       "      <td>1087800</td>\n",
       "      <td>0.058582</td>\n",
       "    </tr>\n",
       "    <tr>\n",
       "      <th>0.058203</th>\n",
       "      <td>248709873</td>\n",
       "      <td>14475600</td>\n",
       "      <td>1820130</td>\n",
       "      <td>12655500</td>\n",
       "      <td>23440</td>\n",
       "      <td>102560</td>\n",
       "      <td>639270</td>\n",
       "      <td>1054860</td>\n",
       "      <td>3073900</td>\n",
       "      <td>7945700</td>\n",
       "      <td>1635900</td>\n",
       "      <td>0.058203</td>\n",
       "    </tr>\n",
       "    <tr>\n",
       "      <th>0.057410</th>\n",
       "      <td>248239000</td>\n",
       "      <td>14251400</td>\n",
       "      <td>1646040</td>\n",
       "      <td>12605400</td>\n",
       "      <td>21500</td>\n",
       "      <td>94500</td>\n",
       "      <td>578330</td>\n",
       "      <td>951710</td>\n",
       "      <td>3168200</td>\n",
       "      <td>7872400</td>\n",
       "      <td>1564800</td>\n",
       "      <td>0.057410</td>\n",
       "    </tr>\n",
       "  </tbody>\n",
       "</table>\n",
       "</div>"
      ],
      "text/plain": [
       "          Population     Total  Violent  Property  Murder  Forcible-Rape  \\\n",
       "ratio                                                                      \n",
       "0.059500   225349264  13408300  1344520  12063700   23040          82990   \n",
       "0.058978   252177000  14872900  1911770  12961100   24700         106590   \n",
       "0.058582   229146000  13423800  1361820  12061900   22520          82500   \n",
       "0.058203   248709873  14475600  1820130  12655500   23440         102560   \n",
       "0.057410   248239000  14251400  1646040  12605400   21500          94500   \n",
       "\n",
       "          Robbery  Aggravated-assault  Burglary  Larcency-Theft  \\\n",
       "ratio                                                             \n",
       "0.059500   565840              672650   3795200         7136900   \n",
       "0.058978   687730             1092740   3157200         8142200   \n",
       "0.058582   592910              663900   3779700         7194400   \n",
       "0.058203   639270             1054860   3073900         7945700   \n",
       "0.057410   578330              951710   3168200         7872400   \n",
       "\n",
       "          Vehicle-Theft     ratio  \n",
       "ratio                              \n",
       "0.059500        1131700  0.059500  \n",
       "0.058978        1661700  0.058978  \n",
       "0.058582        1087800  0.058582  \n",
       "0.058203        1635900  0.058203  \n",
       "0.057410        1564800  0.057410  "
      ]
     },
     "execution_count": 67,
     "metadata": {},
     "output_type": "execute_result"
    }
   ],
   "source": [
    "crime_data.set_index(\"ratio\", drop=False).sort_index(ascending=False).head(5)"
   ]
  },
  {
   "cell_type": "markdown",
   "metadata": {},
   "source": [
    "Calculate the average number of total crimes as well as burglary crimes between 1960 and\n",
    "2012."
   ]
  },
  {
   "cell_type": "code",
   "execution_count": 68,
   "metadata": {},
   "outputs": [
    {
     "data": {
      "text/plain": [
       "10638068.075471697"
      ]
     },
     "execution_count": 68,
     "metadata": {},
     "output_type": "execute_result"
    }
   ],
   "source": [
    "crime_data.Total.mean()"
   ]
  },
  {
   "cell_type": "markdown",
   "metadata": {},
   "source": [
    "Find the years for which the total number of crimes was below average, but the number\n",
    "of burglaries was above average."
   ]
  },
  {
   "cell_type": "code",
   "execution_count": 71,
   "metadata": {},
   "outputs": [
    {
     "data": {
      "text/html": [
       "<div>\n",
       "<style scoped>\n",
       "    .dataframe tbody tr th:only-of-type {\n",
       "        vertical-align: middle;\n",
       "    }\n",
       "\n",
       "    .dataframe tbody tr th {\n",
       "        vertical-align: top;\n",
       "    }\n",
       "\n",
       "    .dataframe thead th {\n",
       "        text-align: right;\n",
       "    }\n",
       "</style>\n",
       "<table border=\"1\" class=\"dataframe\">\n",
       "  <thead>\n",
       "    <tr style=\"text-align: right;\">\n",
       "      <th></th>\n",
       "      <th>Population</th>\n",
       "      <th>Total</th>\n",
       "      <th>Violent</th>\n",
       "      <th>Property</th>\n",
       "      <th>Murder</th>\n",
       "      <th>Forcible-Rape</th>\n",
       "      <th>Robbery</th>\n",
       "      <th>Aggravated-assault</th>\n",
       "      <th>Burglary</th>\n",
       "      <th>Larcency-Theft</th>\n",
       "      <th>Vehicle-Theft</th>\n",
       "      <th>ratio</th>\n",
       "    </tr>\n",
       "    <tr>\n",
       "      <th>Year</th>\n",
       "      <th></th>\n",
       "      <th></th>\n",
       "      <th></th>\n",
       "      <th></th>\n",
       "      <th></th>\n",
       "      <th></th>\n",
       "      <th></th>\n",
       "      <th></th>\n",
       "      <th></th>\n",
       "      <th></th>\n",
       "      <th></th>\n",
       "      <th></th>\n",
       "    </tr>\n",
       "  </thead>\n",
       "  <tbody>\n",
       "    <tr>\n",
       "      <th>1973</th>\n",
       "      <td>209851000</td>\n",
       "      <td>8718100</td>\n",
       "      <td>875910</td>\n",
       "      <td>7842200</td>\n",
       "      <td>19640</td>\n",
       "      <td>51400</td>\n",
       "      <td>384220</td>\n",
       "      <td>420650</td>\n",
       "      <td>2565500</td>\n",
       "      <td>4347900</td>\n",
       "      <td>928800</td>\n",
       "      <td>0.041544</td>\n",
       "    </tr>\n",
       "    <tr>\n",
       "      <th>1974</th>\n",
       "      <td>211392000</td>\n",
       "      <td>10253400</td>\n",
       "      <td>974720</td>\n",
       "      <td>9278700</td>\n",
       "      <td>20710</td>\n",
       "      <td>55400</td>\n",
       "      <td>442400</td>\n",
       "      <td>456210</td>\n",
       "      <td>3039200</td>\n",
       "      <td>5262500</td>\n",
       "      <td>977100</td>\n",
       "      <td>0.048504</td>\n",
       "    </tr>\n",
       "  </tbody>\n",
       "</table>\n",
       "</div>"
      ],
      "text/plain": [
       "      Population     Total  Violent  Property  Murder  Forcible-Rape  Robbery  \\\n",
       "Year                                                                            \n",
       "1973   209851000   8718100   875910   7842200   19640          51400   384220   \n",
       "1974   211392000  10253400   974720   9278700   20710          55400   442400   \n",
       "\n",
       "      Aggravated-assault  Burglary  Larcency-Theft  Vehicle-Theft     ratio  \n",
       "Year                                                                         \n",
       "1973              420650   2565500         4347900         928800  0.041544  \n",
       "1974              456210   3039200         5262500         977100  0.048504  "
      ]
     },
     "execution_count": 71,
     "metadata": {},
     "output_type": "execute_result"
    }
   ],
   "source": [
    "crime_data[(crime_data.Total < crime_data.Total.mean()) & (crime_data.Burglary > crime_data.Burglary.mean())]"
   ]
  },
  {
   "cell_type": "markdown",
   "metadata": {},
   "source": [
    "Select the Population, Violent, and Robbery columns for all years in the 1980s, and save this smaller data frame to a CSV file crime_subset.csv"
   ]
  },
  {
   "cell_type": "code",
   "execution_count": 82,
   "metadata": {},
   "outputs": [],
   "source": [
    "crime_data.iloc[20:30].drop([\"Total\", \"Property\", \"Murder\", \"Forcible-Rape\", \"Aggravated-assault\", \"Burglary\", \"Larcency-Theft\", \"Vehicle-Theft\", \"ratio\"], axis=1).to_csv('crime_subset.csv')"
   ]
  },
  {
   "cell_type": "markdown",
   "metadata": {},
   "source": [
    "## Problem 2\n",
    "\n",
    "*The file `titanic.csv` has various features on who survived the accident.  Complete the following problems using this dataset."
   ]
  },
  {
   "cell_type": "markdown",
   "metadata": {},
   "source": [
    "Read the data into a DataFrame. Use the first row of the file as the column labels, but do not use any of the columns as the index."
   ]
  },
  {
   "cell_type": "code",
   "execution_count": null,
   "metadata": {},
   "outputs": [],
   "source": []
  },
  {
   "cell_type": "markdown",
   "metadata": {},
   "source": [
    "Drop the columns \"Sibsp\", \"Parch\", \"Cabin\", \"Boat\", \"Body\", and \"home.dest\""
   ]
  },
  {
   "cell_type": "code",
   "execution_count": null,
   "metadata": {},
   "outputs": [],
   "source": []
  },
  {
   "cell_type": "markdown",
   "metadata": {},
   "source": [
    "Replace null entries in the \"Age\" column with the average age."
   ]
  },
  {
   "cell_type": "code",
   "execution_count": null,
   "metadata": {},
   "outputs": [],
   "source": []
  },
  {
   "cell_type": "markdown",
   "metadata": {},
   "source": [
    "Save the new DataFrame as titanic_clean.csv"
   ]
  },
  {
   "cell_type": "code",
   "execution_count": null,
   "metadata": {},
   "outputs": [],
   "source": []
  },
  {
   "cell_type": "markdown",
   "metadata": {},
   "source": [
    "How many people survived? What percentage of passengers survived?"
   ]
  },
  {
   "cell_type": "code",
   "execution_count": null,
   "metadata": {},
   "outputs": [],
   "source": []
  },
  {
   "cell_type": "markdown",
   "metadata": {},
   "source": [
    "What was the average price of a ticket? How much did the most expensive ticket cost?\n"
   ]
  },
  {
   "cell_type": "code",
   "execution_count": null,
   "metadata": {},
   "outputs": [],
   "source": []
  },
  {
   "cell_type": "markdown",
   "metadata": {},
   "source": [
    "How old was the oldest survivor? How young was the youngest survivor? What about\n",
    "non-survivors?"
   ]
  },
  {
   "cell_type": "code",
   "execution_count": null,
   "metadata": {},
   "outputs": [],
   "source": []
  }
 ],
 "metadata": {
  "kernelspec": {
   "display_name": "Python 3",
   "language": "python",
   "name": "python3"
  },
  "language_info": {
   "codemirror_mode": {
    "name": "ipython",
    "version": 3
   },
   "file_extension": ".py",
   "mimetype": "text/x-python",
   "name": "python",
   "nbconvert_exporter": "python",
   "pygments_lexer": "ipython3",
   "version": "3.6.5"
  }
 },
 "nbformat": 4,
 "nbformat_minor": 2
}
